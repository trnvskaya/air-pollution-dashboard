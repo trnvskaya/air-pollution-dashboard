{
 "cells": [
  {
   "cell_type": "code",
   "execution_count": 1,
   "id": "0ba8f342",
   "metadata": {},
   "outputs": [],
   "source": [
    "import pandas as pd\n",
    "import numpy as np"
   ]
  },
  {
   "cell_type": "code",
   "execution_count": 2,
   "id": "c082b49f",
   "metadata": {},
   "outputs": [],
   "source": [
    "data = pd.read_csv('../data/data_cleaned.csv')"
   ]
  },
  {
   "cell_type": "code",
   "execution_count": 3,
   "id": "16c1b4c2",
   "metadata": {},
   "outputs": [],
   "source": [
    "japan = data[data['Location'] == 'Japan']\n",
    "japan_f = japan[japan['Sex'] == 'Female']\n",
    "japan_m = japan[japan['Sex'] == 'Male']"
   ]
  },
  {
   "cell_type": "code",
   "execution_count": 4,
   "id": "28bae036",
   "metadata": {},
   "outputs": [
    {
     "data": {
      "text/html": [
       "<div>\n",
       "<style scoped>\n",
       "    .dataframe tbody tr th:only-of-type {\n",
       "        vertical-align: middle;\n",
       "    }\n",
       "\n",
       "    .dataframe tbody tr th {\n",
       "        vertical-align: top;\n",
       "    }\n",
       "\n",
       "    .dataframe thead th {\n",
       "        text-align: right;\n",
       "    }\n",
       "</style>\n",
       "<table border=\"1\" class=\"dataframe\">\n",
       "  <thead>\n",
       "    <tr style=\"text-align: right;\">\n",
       "      <th></th>\n",
       "      <th>ParentLocation</th>\n",
       "      <th>Location</th>\n",
       "      <th>Year</th>\n",
       "      <th>IsLatestYear</th>\n",
       "      <th>Sex</th>\n",
       "      <th>Acute lower respiratory infections</th>\n",
       "      <th>All causes</th>\n",
       "      <th>Cataracts</th>\n",
       "      <th>Chronic obstructive pulmonary disease</th>\n",
       "      <th>Ischaemic heart disease</th>\n",
       "      <th>Stroke</th>\n",
       "      <th>Trachea, bronchus, lung cancers</th>\n",
       "    </tr>\n",
       "  </thead>\n",
       "  <tbody>\n",
       "    <tr>\n",
       "      <th>4920</th>\n",
       "      <td>Western Pacific</td>\n",
       "      <td>Japan</td>\n",
       "      <td>2010</td>\n",
       "      <td>False</td>\n",
       "      <td>Both sexes</td>\n",
       "      <td>60.69</td>\n",
       "      <td>345.7</td>\n",
       "      <td>0.0</td>\n",
       "      <td>30.62</td>\n",
       "      <td>135.00</td>\n",
       "      <td>90.29</td>\n",
       "      <td>29.08</td>\n",
       "    </tr>\n",
       "    <tr>\n",
       "      <th>4921</th>\n",
       "      <td>Western Pacific</td>\n",
       "      <td>Japan</td>\n",
       "      <td>2010</td>\n",
       "      <td>False</td>\n",
       "      <td>Female</td>\n",
       "      <td>40.48</td>\n",
       "      <td>222.3</td>\n",
       "      <td>0.0</td>\n",
       "      <td>18.31</td>\n",
       "      <td>78.28</td>\n",
       "      <td>71.39</td>\n",
       "      <td>13.83</td>\n",
       "    </tr>\n",
       "    <tr>\n",
       "      <th>4922</th>\n",
       "      <td>Western Pacific</td>\n",
       "      <td>Japan</td>\n",
       "      <td>2010</td>\n",
       "      <td>False</td>\n",
       "      <td>Male</td>\n",
       "      <td>88.31</td>\n",
       "      <td>490.2</td>\n",
       "      <td>0.0</td>\n",
       "      <td>47.63</td>\n",
       "      <td>195.50</td>\n",
       "      <td>111.30</td>\n",
       "      <td>47.45</td>\n",
       "    </tr>\n",
       "    <tr>\n",
       "      <th>4923</th>\n",
       "      <td>Western Pacific</td>\n",
       "      <td>Japan</td>\n",
       "      <td>2011</td>\n",
       "      <td>False</td>\n",
       "      <td>Both sexes</td>\n",
       "      <td>61.06</td>\n",
       "      <td>340.3</td>\n",
       "      <td>0.0</td>\n",
       "      <td>30.19</td>\n",
       "      <td>134.20</td>\n",
       "      <td>86.87</td>\n",
       "      <td>27.99</td>\n",
       "    </tr>\n",
       "    <tr>\n",
       "      <th>4924</th>\n",
       "      <td>Western Pacific</td>\n",
       "      <td>Japan</td>\n",
       "      <td>2011</td>\n",
       "      <td>False</td>\n",
       "      <td>Female</td>\n",
       "      <td>40.98</td>\n",
       "      <td>219.4</td>\n",
       "      <td>0.0</td>\n",
       "      <td>18.17</td>\n",
       "      <td>76.90</td>\n",
       "      <td>69.93</td>\n",
       "      <td>13.41</td>\n",
       "    </tr>\n",
       "    <tr>\n",
       "      <th>4925</th>\n",
       "      <td>Western Pacific</td>\n",
       "      <td>Japan</td>\n",
       "      <td>2011</td>\n",
       "      <td>False</td>\n",
       "      <td>Male</td>\n",
       "      <td>88.03</td>\n",
       "      <td>480.7</td>\n",
       "      <td>0.0</td>\n",
       "      <td>46.68</td>\n",
       "      <td>195.00</td>\n",
       "      <td>105.60</td>\n",
       "      <td>45.43</td>\n",
       "    </tr>\n",
       "    <tr>\n",
       "      <th>4926</th>\n",
       "      <td>Western Pacific</td>\n",
       "      <td>Japan</td>\n",
       "      <td>2012</td>\n",
       "      <td>False</td>\n",
       "      <td>Both sexes</td>\n",
       "      <td>53.07</td>\n",
       "      <td>307.5</td>\n",
       "      <td>0.0</td>\n",
       "      <td>27.30</td>\n",
       "      <td>125.40</td>\n",
       "      <td>77.50</td>\n",
       "      <td>24.30</td>\n",
       "    </tr>\n",
       "    <tr>\n",
       "      <th>4927</th>\n",
       "      <td>Western Pacific</td>\n",
       "      <td>Japan</td>\n",
       "      <td>2012</td>\n",
       "      <td>False</td>\n",
       "      <td>Female</td>\n",
       "      <td>35.23</td>\n",
       "      <td>198.2</td>\n",
       "      <td>0.0</td>\n",
       "      <td>16.64</td>\n",
       "      <td>72.51</td>\n",
       "      <td>62.20</td>\n",
       "      <td>11.64</td>\n",
       "    </tr>\n",
       "    <tr>\n",
       "      <th>4928</th>\n",
       "      <td>Western Pacific</td>\n",
       "      <td>Japan</td>\n",
       "      <td>2012</td>\n",
       "      <td>False</td>\n",
       "      <td>Male</td>\n",
       "      <td>76.65</td>\n",
       "      <td>433.4</td>\n",
       "      <td>0.0</td>\n",
       "      <td>41.85</td>\n",
       "      <td>181.30</td>\n",
       "      <td>94.27</td>\n",
       "      <td>39.32</td>\n",
       "    </tr>\n",
       "    <tr>\n",
       "      <th>4929</th>\n",
       "      <td>Western Pacific</td>\n",
       "      <td>Japan</td>\n",
       "      <td>2013</td>\n",
       "      <td>False</td>\n",
       "      <td>Both sexes</td>\n",
       "      <td>54.95</td>\n",
       "      <td>314.8</td>\n",
       "      <td>0.0</td>\n",
       "      <td>29.02</td>\n",
       "      <td>125.30</td>\n",
       "      <td>78.96</td>\n",
       "      <td>26.58</td>\n",
       "    </tr>\n",
       "    <tr>\n",
       "      <th>4930</th>\n",
       "      <td>Western Pacific</td>\n",
       "      <td>Japan</td>\n",
       "      <td>2013</td>\n",
       "      <td>False</td>\n",
       "      <td>Female</td>\n",
       "      <td>36.37</td>\n",
       "      <td>203.1</td>\n",
       "      <td>0.0</td>\n",
       "      <td>17.62</td>\n",
       "      <td>72.37</td>\n",
       "      <td>63.95</td>\n",
       "      <td>12.78</td>\n",
       "    </tr>\n",
       "    <tr>\n",
       "      <th>4931</th>\n",
       "      <td>Western Pacific</td>\n",
       "      <td>Japan</td>\n",
       "      <td>2013</td>\n",
       "      <td>False</td>\n",
       "      <td>Male</td>\n",
       "      <td>79.39</td>\n",
       "      <td>442.8</td>\n",
       "      <td>0.0</td>\n",
       "      <td>44.39</td>\n",
       "      <td>180.90</td>\n",
       "      <td>95.27</td>\n",
       "      <td>42.84</td>\n",
       "    </tr>\n",
       "    <tr>\n",
       "      <th>4932</th>\n",
       "      <td>Western Pacific</td>\n",
       "      <td>Japan</td>\n",
       "      <td>2014</td>\n",
       "      <td>False</td>\n",
       "      <td>Both sexes</td>\n",
       "      <td>53.44</td>\n",
       "      <td>306.4</td>\n",
       "      <td>0.0</td>\n",
       "      <td>28.69</td>\n",
       "      <td>121.80</td>\n",
       "      <td>76.45</td>\n",
       "      <td>26.03</td>\n",
       "    </tr>\n",
       "    <tr>\n",
       "      <th>4933</th>\n",
       "      <td>Western Pacific</td>\n",
       "      <td>Japan</td>\n",
       "      <td>2014</td>\n",
       "      <td>False</td>\n",
       "      <td>Female</td>\n",
       "      <td>35.92</td>\n",
       "      <td>197.3</td>\n",
       "      <td>0.0</td>\n",
       "      <td>17.44</td>\n",
       "      <td>69.64</td>\n",
       "      <td>61.57</td>\n",
       "      <td>12.73</td>\n",
       "    </tr>\n",
       "    <tr>\n",
       "      <th>4934</th>\n",
       "      <td>Western Pacific</td>\n",
       "      <td>Japan</td>\n",
       "      <td>2014</td>\n",
       "      <td>False</td>\n",
       "      <td>Male</td>\n",
       "      <td>76.30</td>\n",
       "      <td>430.8</td>\n",
       "      <td>0.0</td>\n",
       "      <td>43.79</td>\n",
       "      <td>176.50</td>\n",
       "      <td>92.45</td>\n",
       "      <td>41.70</td>\n",
       "    </tr>\n",
       "    <tr>\n",
       "      <th>4935</th>\n",
       "      <td>Western Pacific</td>\n",
       "      <td>Japan</td>\n",
       "      <td>2015</td>\n",
       "      <td>False</td>\n",
       "      <td>Both sexes</td>\n",
       "      <td>48.13</td>\n",
       "      <td>286.1</td>\n",
       "      <td>0.0</td>\n",
       "      <td>27.27</td>\n",
       "      <td>114.30</td>\n",
       "      <td>72.30</td>\n",
       "      <td>24.16</td>\n",
       "    </tr>\n",
       "    <tr>\n",
       "      <th>4936</th>\n",
       "      <td>Western Pacific</td>\n",
       "      <td>Japan</td>\n",
       "      <td>2015</td>\n",
       "      <td>False</td>\n",
       "      <td>Female</td>\n",
       "      <td>32.04</td>\n",
       "      <td>184.0</td>\n",
       "      <td>0.0</td>\n",
       "      <td>16.71</td>\n",
       "      <td>64.98</td>\n",
       "      <td>58.60</td>\n",
       "      <td>11.67</td>\n",
       "    </tr>\n",
       "    <tr>\n",
       "      <th>4937</th>\n",
       "      <td>Western Pacific</td>\n",
       "      <td>Japan</td>\n",
       "      <td>2015</td>\n",
       "      <td>False</td>\n",
       "      <td>Male</td>\n",
       "      <td>69.19</td>\n",
       "      <td>402.2</td>\n",
       "      <td>0.0</td>\n",
       "      <td>41.36</td>\n",
       "      <td>166.00</td>\n",
       "      <td>86.86</td>\n",
       "      <td>38.79</td>\n",
       "    </tr>\n",
       "    <tr>\n",
       "      <th>4938</th>\n",
       "      <td>Western Pacific</td>\n",
       "      <td>Japan</td>\n",
       "      <td>2016</td>\n",
       "      <td>False</td>\n",
       "      <td>Both sexes</td>\n",
       "      <td>47.26</td>\n",
       "      <td>278.9</td>\n",
       "      <td>0.0</td>\n",
       "      <td>26.58</td>\n",
       "      <td>112.20</td>\n",
       "      <td>70.06</td>\n",
       "      <td>22.81</td>\n",
       "    </tr>\n",
       "    <tr>\n",
       "      <th>4939</th>\n",
       "      <td>Western Pacific</td>\n",
       "      <td>Japan</td>\n",
       "      <td>2016</td>\n",
       "      <td>False</td>\n",
       "      <td>Female</td>\n",
       "      <td>31.58</td>\n",
       "      <td>179.2</td>\n",
       "      <td>0.0</td>\n",
       "      <td>16.19</td>\n",
       "      <td>62.97</td>\n",
       "      <td>57.20</td>\n",
       "      <td>11.25</td>\n",
       "    </tr>\n",
       "  </tbody>\n",
       "</table>\n",
       "</div>"
      ],
      "text/plain": [
       "       ParentLocation Location  Year  IsLatestYear         Sex  \\\n",
       "4920  Western Pacific    Japan  2010         False  Both sexes   \n",
       "4921  Western Pacific    Japan  2010         False      Female   \n",
       "4922  Western Pacific    Japan  2010         False        Male   \n",
       "4923  Western Pacific    Japan  2011         False  Both sexes   \n",
       "4924  Western Pacific    Japan  2011         False      Female   \n",
       "4925  Western Pacific    Japan  2011         False        Male   \n",
       "4926  Western Pacific    Japan  2012         False  Both sexes   \n",
       "4927  Western Pacific    Japan  2012         False      Female   \n",
       "4928  Western Pacific    Japan  2012         False        Male   \n",
       "4929  Western Pacific    Japan  2013         False  Both sexes   \n",
       "4930  Western Pacific    Japan  2013         False      Female   \n",
       "4931  Western Pacific    Japan  2013         False        Male   \n",
       "4932  Western Pacific    Japan  2014         False  Both sexes   \n",
       "4933  Western Pacific    Japan  2014         False      Female   \n",
       "4934  Western Pacific    Japan  2014         False        Male   \n",
       "4935  Western Pacific    Japan  2015         False  Both sexes   \n",
       "4936  Western Pacific    Japan  2015         False      Female   \n",
       "4937  Western Pacific    Japan  2015         False        Male   \n",
       "4938  Western Pacific    Japan  2016         False  Both sexes   \n",
       "4939  Western Pacific    Japan  2016         False      Female   \n",
       "\n",
       "      Acute lower respiratory infections  All causes  Cataracts  \\\n",
       "4920                               60.69       345.7        0.0   \n",
       "4921                               40.48       222.3        0.0   \n",
       "4922                               88.31       490.2        0.0   \n",
       "4923                               61.06       340.3        0.0   \n",
       "4924                               40.98       219.4        0.0   \n",
       "4925                               88.03       480.7        0.0   \n",
       "4926                               53.07       307.5        0.0   \n",
       "4927                               35.23       198.2        0.0   \n",
       "4928                               76.65       433.4        0.0   \n",
       "4929                               54.95       314.8        0.0   \n",
       "4930                               36.37       203.1        0.0   \n",
       "4931                               79.39       442.8        0.0   \n",
       "4932                               53.44       306.4        0.0   \n",
       "4933                               35.92       197.3        0.0   \n",
       "4934                               76.30       430.8        0.0   \n",
       "4935                               48.13       286.1        0.0   \n",
       "4936                               32.04       184.0        0.0   \n",
       "4937                               69.19       402.2        0.0   \n",
       "4938                               47.26       278.9        0.0   \n",
       "4939                               31.58       179.2        0.0   \n",
       "\n",
       "      Chronic obstructive pulmonary disease  Ischaemic heart disease  Stroke  \\\n",
       "4920                                  30.62                   135.00   90.29   \n",
       "4921                                  18.31                    78.28   71.39   \n",
       "4922                                  47.63                   195.50  111.30   \n",
       "4923                                  30.19                   134.20   86.87   \n",
       "4924                                  18.17                    76.90   69.93   \n",
       "4925                                  46.68                   195.00  105.60   \n",
       "4926                                  27.30                   125.40   77.50   \n",
       "4927                                  16.64                    72.51   62.20   \n",
       "4928                                  41.85                   181.30   94.27   \n",
       "4929                                  29.02                   125.30   78.96   \n",
       "4930                                  17.62                    72.37   63.95   \n",
       "4931                                  44.39                   180.90   95.27   \n",
       "4932                                  28.69                   121.80   76.45   \n",
       "4933                                  17.44                    69.64   61.57   \n",
       "4934                                  43.79                   176.50   92.45   \n",
       "4935                                  27.27                   114.30   72.30   \n",
       "4936                                  16.71                    64.98   58.60   \n",
       "4937                                  41.36                   166.00   86.86   \n",
       "4938                                  26.58                   112.20   70.06   \n",
       "4939                                  16.19                    62.97   57.20   \n",
       "\n",
       "      Trachea, bronchus, lung cancers  \n",
       "4920                            29.08  \n",
       "4921                            13.83  \n",
       "4922                            47.45  \n",
       "4923                            27.99  \n",
       "4924                            13.41  \n",
       "4925                            45.43  \n",
       "4926                            24.30  \n",
       "4927                            11.64  \n",
       "4928                            39.32  \n",
       "4929                            26.58  \n",
       "4930                            12.78  \n",
       "4931                            42.84  \n",
       "4932                            26.03  \n",
       "4933                            12.73  \n",
       "4934                            41.70  \n",
       "4935                            24.16  \n",
       "4936                            11.67  \n",
       "4937                            38.79  \n",
       "4938                            22.81  \n",
       "4939                            11.25  "
      ]
     },
     "execution_count": 4,
     "metadata": {},
     "output_type": "execute_result"
    }
   ],
   "source": [
    "japan.head(20)"
   ]
  },
  {
   "cell_type": "code",
   "execution_count": 5,
   "id": "e6101b05",
   "metadata": {},
   "outputs": [],
   "source": [
    "from plotly.subplots import make_subplots\n",
    "from plotly import graph_objects as go"
   ]
  },
  {
   "cell_type": "code",
   "execution_count": 6,
   "id": "4a88b624",
   "metadata": {},
   "outputs": [
    {
     "name": "stderr",
     "output_type": "stream",
     "text": [
      "C:\\Users\\maryt\\AppData\\Local\\Packages\\PythonSoftwareFoundation.Python.3.12_qbz5n2kfra8p0\\LocalCache\\local-packages\\Python312\\site-packages\\plotly\\graph_objs\\_deprecations.py:378: DeprecationWarning:\n",
      "\n",
      "plotly.graph_objs.Line is deprecated.\n",
      "Please replace it with one of the following more specific types\n",
      "  - plotly.graph_objs.scatter.Line\n",
      "  - plotly.graph_objs.layout.shape.Line\n",
      "  - etc.\n",
      "\n",
      "\n"
     ]
    },
    {
     "data": {
      "application/vnd.plotly.v1+json": {
       "config": {
        "plotlyServerURL": "https://plot.ly"
       },
       "data": [
        {
         "name": "Female",
         "type": "scatter",
         "x": {
          "bdata": "2gfbB9wH3QfeB98H4AfhB+IH4wc=",
          "dtype": "i2"
         },
         "xaxis": "x",
         "y": {
          "bdata": "KVyPwvXYUUDsUbgehXtRQJqZmZmZGU9AmpmZmZn5T0ApXI/C9chOQM3MzMzMTE1AmpmZmZmZTED2KFyPwnVLQJqZmZmZWUlASOF6FK7nSEA=",
          "dtype": "f8"
         },
         "yaxis": "y"
        },
        {
         "name": "Male",
         "type": "scatter",
         "x": {
          "bdata": "2gfbB9wH3QfeB98H4AfhB+IH4wc=",
          "dtype": "i2"
         },
         "xaxis": "x2",
         "y": {
          "bdata": "MzMzMzPTW0BmZmZmZmZaQOF6FK5HkVdA4XoUrkfRV0DNzMzMzBxXQNejcD0Kt1VArkfhehTuVEBmZmZmZjZUQOF6FK5HYVJAUrgeheshUkA=",
          "dtype": "f8"
         },
         "yaxis": "y2"
        }
       ],
       "layout": {
        "annotations": [
         {
          "font": {
           "size": 16
          },
          "showarrow": false,
          "text": "Female Stroke",
          "x": 0.225,
          "xanchor": "center",
          "xref": "paper",
          "y": 1,
          "yanchor": "bottom",
          "yref": "paper"
         },
         {
          "font": {
           "size": 16
          },
          "showarrow": false,
          "text": "Male Stroke",
          "x": 0.775,
          "xanchor": "center",
          "xref": "paper",
          "y": 1,
          "yanchor": "bottom",
          "yref": "paper"
         }
        ],
        "template": {
         "data": {
          "bar": [
           {
            "error_x": {
             "color": "#2a3f5f"
            },
            "error_y": {
             "color": "#2a3f5f"
            },
            "marker": {
             "line": {
              "color": "#E5ECF6",
              "width": 0.5
             },
             "pattern": {
              "fillmode": "overlay",
              "size": 10,
              "solidity": 0.2
             }
            },
            "type": "bar"
           }
          ],
          "barpolar": [
           {
            "marker": {
             "line": {
              "color": "#E5ECF6",
              "width": 0.5
             },
             "pattern": {
              "fillmode": "overlay",
              "size": 10,
              "solidity": 0.2
             }
            },
            "type": "barpolar"
           }
          ],
          "carpet": [
           {
            "aaxis": {
             "endlinecolor": "#2a3f5f",
             "gridcolor": "white",
             "linecolor": "white",
             "minorgridcolor": "white",
             "startlinecolor": "#2a3f5f"
            },
            "baxis": {
             "endlinecolor": "#2a3f5f",
             "gridcolor": "white",
             "linecolor": "white",
             "minorgridcolor": "white",
             "startlinecolor": "#2a3f5f"
            },
            "type": "carpet"
           }
          ],
          "choropleth": [
           {
            "colorbar": {
             "outlinewidth": 0,
             "ticks": ""
            },
            "type": "choropleth"
           }
          ],
          "contour": [
           {
            "colorbar": {
             "outlinewidth": 0,
             "ticks": ""
            },
            "colorscale": [
             [
              0,
              "#0d0887"
             ],
             [
              0.1111111111111111,
              "#46039f"
             ],
             [
              0.2222222222222222,
              "#7201a8"
             ],
             [
              0.3333333333333333,
              "#9c179e"
             ],
             [
              0.4444444444444444,
              "#bd3786"
             ],
             [
              0.5555555555555556,
              "#d8576b"
             ],
             [
              0.6666666666666666,
              "#ed7953"
             ],
             [
              0.7777777777777778,
              "#fb9f3a"
             ],
             [
              0.8888888888888888,
              "#fdca26"
             ],
             [
              1,
              "#f0f921"
             ]
            ],
            "type": "contour"
           }
          ],
          "contourcarpet": [
           {
            "colorbar": {
             "outlinewidth": 0,
             "ticks": ""
            },
            "type": "contourcarpet"
           }
          ],
          "heatmap": [
           {
            "colorbar": {
             "outlinewidth": 0,
             "ticks": ""
            },
            "colorscale": [
             [
              0,
              "#0d0887"
             ],
             [
              0.1111111111111111,
              "#46039f"
             ],
             [
              0.2222222222222222,
              "#7201a8"
             ],
             [
              0.3333333333333333,
              "#9c179e"
             ],
             [
              0.4444444444444444,
              "#bd3786"
             ],
             [
              0.5555555555555556,
              "#d8576b"
             ],
             [
              0.6666666666666666,
              "#ed7953"
             ],
             [
              0.7777777777777778,
              "#fb9f3a"
             ],
             [
              0.8888888888888888,
              "#fdca26"
             ],
             [
              1,
              "#f0f921"
             ]
            ],
            "type": "heatmap"
           }
          ],
          "histogram": [
           {
            "marker": {
             "pattern": {
              "fillmode": "overlay",
              "size": 10,
              "solidity": 0.2
             }
            },
            "type": "histogram"
           }
          ],
          "histogram2d": [
           {
            "colorbar": {
             "outlinewidth": 0,
             "ticks": ""
            },
            "colorscale": [
             [
              0,
              "#0d0887"
             ],
             [
              0.1111111111111111,
              "#46039f"
             ],
             [
              0.2222222222222222,
              "#7201a8"
             ],
             [
              0.3333333333333333,
              "#9c179e"
             ],
             [
              0.4444444444444444,
              "#bd3786"
             ],
             [
              0.5555555555555556,
              "#d8576b"
             ],
             [
              0.6666666666666666,
              "#ed7953"
             ],
             [
              0.7777777777777778,
              "#fb9f3a"
             ],
             [
              0.8888888888888888,
              "#fdca26"
             ],
             [
              1,
              "#f0f921"
             ]
            ],
            "type": "histogram2d"
           }
          ],
          "histogram2dcontour": [
           {
            "colorbar": {
             "outlinewidth": 0,
             "ticks": ""
            },
            "colorscale": [
             [
              0,
              "#0d0887"
             ],
             [
              0.1111111111111111,
              "#46039f"
             ],
             [
              0.2222222222222222,
              "#7201a8"
             ],
             [
              0.3333333333333333,
              "#9c179e"
             ],
             [
              0.4444444444444444,
              "#bd3786"
             ],
             [
              0.5555555555555556,
              "#d8576b"
             ],
             [
              0.6666666666666666,
              "#ed7953"
             ],
             [
              0.7777777777777778,
              "#fb9f3a"
             ],
             [
              0.8888888888888888,
              "#fdca26"
             ],
             [
              1,
              "#f0f921"
             ]
            ],
            "type": "histogram2dcontour"
           }
          ],
          "mesh3d": [
           {
            "colorbar": {
             "outlinewidth": 0,
             "ticks": ""
            },
            "type": "mesh3d"
           }
          ],
          "parcoords": [
           {
            "line": {
             "colorbar": {
              "outlinewidth": 0,
              "ticks": ""
             }
            },
            "type": "parcoords"
           }
          ],
          "pie": [
           {
            "automargin": true,
            "type": "pie"
           }
          ],
          "scatter": [
           {
            "fillpattern": {
             "fillmode": "overlay",
             "size": 10,
             "solidity": 0.2
            },
            "type": "scatter"
           }
          ],
          "scatter3d": [
           {
            "line": {
             "colorbar": {
              "outlinewidth": 0,
              "ticks": ""
             }
            },
            "marker": {
             "colorbar": {
              "outlinewidth": 0,
              "ticks": ""
             }
            },
            "type": "scatter3d"
           }
          ],
          "scattercarpet": [
           {
            "marker": {
             "colorbar": {
              "outlinewidth": 0,
              "ticks": ""
             }
            },
            "type": "scattercarpet"
           }
          ],
          "scattergeo": [
           {
            "marker": {
             "colorbar": {
              "outlinewidth": 0,
              "ticks": ""
             }
            },
            "type": "scattergeo"
           }
          ],
          "scattergl": [
           {
            "marker": {
             "colorbar": {
              "outlinewidth": 0,
              "ticks": ""
             }
            },
            "type": "scattergl"
           }
          ],
          "scattermap": [
           {
            "marker": {
             "colorbar": {
              "outlinewidth": 0,
              "ticks": ""
             }
            },
            "type": "scattermap"
           }
          ],
          "scattermapbox": [
           {
            "marker": {
             "colorbar": {
              "outlinewidth": 0,
              "ticks": ""
             }
            },
            "type": "scattermapbox"
           }
          ],
          "scatterpolar": [
           {
            "marker": {
             "colorbar": {
              "outlinewidth": 0,
              "ticks": ""
             }
            },
            "type": "scatterpolar"
           }
          ],
          "scatterpolargl": [
           {
            "marker": {
             "colorbar": {
              "outlinewidth": 0,
              "ticks": ""
             }
            },
            "type": "scatterpolargl"
           }
          ],
          "scatterternary": [
           {
            "marker": {
             "colorbar": {
              "outlinewidth": 0,
              "ticks": ""
             }
            },
            "type": "scatterternary"
           }
          ],
          "surface": [
           {
            "colorbar": {
             "outlinewidth": 0,
             "ticks": ""
            },
            "colorscale": [
             [
              0,
              "#0d0887"
             ],
             [
              0.1111111111111111,
              "#46039f"
             ],
             [
              0.2222222222222222,
              "#7201a8"
             ],
             [
              0.3333333333333333,
              "#9c179e"
             ],
             [
              0.4444444444444444,
              "#bd3786"
             ],
             [
              0.5555555555555556,
              "#d8576b"
             ],
             [
              0.6666666666666666,
              "#ed7953"
             ],
             [
              0.7777777777777778,
              "#fb9f3a"
             ],
             [
              0.8888888888888888,
              "#fdca26"
             ],
             [
              1,
              "#f0f921"
             ]
            ],
            "type": "surface"
           }
          ],
          "table": [
           {
            "cells": {
             "fill": {
              "color": "#EBF0F8"
             },
             "line": {
              "color": "white"
             }
            },
            "header": {
             "fill": {
              "color": "#C8D4E3"
             },
             "line": {
              "color": "white"
             }
            },
            "type": "table"
           }
          ]
         },
         "layout": {
          "annotationdefaults": {
           "arrowcolor": "#2a3f5f",
           "arrowhead": 0,
           "arrowwidth": 1
          },
          "autotypenumbers": "strict",
          "coloraxis": {
           "colorbar": {
            "outlinewidth": 0,
            "ticks": ""
           }
          },
          "colorscale": {
           "diverging": [
            [
             0,
             "#8e0152"
            ],
            [
             0.1,
             "#c51b7d"
            ],
            [
             0.2,
             "#de77ae"
            ],
            [
             0.3,
             "#f1b6da"
            ],
            [
             0.4,
             "#fde0ef"
            ],
            [
             0.5,
             "#f7f7f7"
            ],
            [
             0.6,
             "#e6f5d0"
            ],
            [
             0.7,
             "#b8e186"
            ],
            [
             0.8,
             "#7fbc41"
            ],
            [
             0.9,
             "#4d9221"
            ],
            [
             1,
             "#276419"
            ]
           ],
           "sequential": [
            [
             0,
             "#0d0887"
            ],
            [
             0.1111111111111111,
             "#46039f"
            ],
            [
             0.2222222222222222,
             "#7201a8"
            ],
            [
             0.3333333333333333,
             "#9c179e"
            ],
            [
             0.4444444444444444,
             "#bd3786"
            ],
            [
             0.5555555555555556,
             "#d8576b"
            ],
            [
             0.6666666666666666,
             "#ed7953"
            ],
            [
             0.7777777777777778,
             "#fb9f3a"
            ],
            [
             0.8888888888888888,
             "#fdca26"
            ],
            [
             1,
             "#f0f921"
            ]
           ],
           "sequentialminus": [
            [
             0,
             "#0d0887"
            ],
            [
             0.1111111111111111,
             "#46039f"
            ],
            [
             0.2222222222222222,
             "#7201a8"
            ],
            [
             0.3333333333333333,
             "#9c179e"
            ],
            [
             0.4444444444444444,
             "#bd3786"
            ],
            [
             0.5555555555555556,
             "#d8576b"
            ],
            [
             0.6666666666666666,
             "#ed7953"
            ],
            [
             0.7777777777777778,
             "#fb9f3a"
            ],
            [
             0.8888888888888888,
             "#fdca26"
            ],
            [
             1,
             "#f0f921"
            ]
           ]
          },
          "colorway": [
           "#636efa",
           "#EF553B",
           "#00cc96",
           "#ab63fa",
           "#FFA15A",
           "#19d3f3",
           "#FF6692",
           "#B6E880",
           "#FF97FF",
           "#FECB52"
          ],
          "font": {
           "color": "#2a3f5f"
          },
          "geo": {
           "bgcolor": "white",
           "lakecolor": "white",
           "landcolor": "#E5ECF6",
           "showlakes": true,
           "showland": true,
           "subunitcolor": "white"
          },
          "hoverlabel": {
           "align": "left"
          },
          "hovermode": "closest",
          "mapbox": {
           "style": "light"
          },
          "paper_bgcolor": "white",
          "plot_bgcolor": "#E5ECF6",
          "polar": {
           "angularaxis": {
            "gridcolor": "white",
            "linecolor": "white",
            "ticks": ""
           },
           "bgcolor": "#E5ECF6",
           "radialaxis": {
            "gridcolor": "white",
            "linecolor": "white",
            "ticks": ""
           }
          },
          "scene": {
           "xaxis": {
            "backgroundcolor": "#E5ECF6",
            "gridcolor": "white",
            "gridwidth": 2,
            "linecolor": "white",
            "showbackground": true,
            "ticks": "",
            "zerolinecolor": "white"
           },
           "yaxis": {
            "backgroundcolor": "#E5ECF6",
            "gridcolor": "white",
            "gridwidth": 2,
            "linecolor": "white",
            "showbackground": true,
            "ticks": "",
            "zerolinecolor": "white"
           },
           "zaxis": {
            "backgroundcolor": "#E5ECF6",
            "gridcolor": "white",
            "gridwidth": 2,
            "linecolor": "white",
            "showbackground": true,
            "ticks": "",
            "zerolinecolor": "white"
           }
          },
          "shapedefaults": {
           "line": {
            "color": "#2a3f5f"
           }
          },
          "ternary": {
           "aaxis": {
            "gridcolor": "white",
            "linecolor": "white",
            "ticks": ""
           },
           "baxis": {
            "gridcolor": "white",
            "linecolor": "white",
            "ticks": ""
           },
           "bgcolor": "#E5ECF6",
           "caxis": {
            "gridcolor": "white",
            "linecolor": "white",
            "ticks": ""
           }
          },
          "title": {
           "x": 0.05
          },
          "xaxis": {
           "automargin": true,
           "gridcolor": "white",
           "linecolor": "white",
           "ticks": "",
           "title": {
            "standoff": 15
           },
           "zerolinecolor": "white",
           "zerolinewidth": 2
          },
          "yaxis": {
           "automargin": true,
           "gridcolor": "white",
           "linecolor": "white",
           "ticks": "",
           "title": {
            "standoff": 15
           },
           "zerolinecolor": "white",
           "zerolinewidth": 2
          }
         }
        },
        "xaxis": {
         "anchor": "y",
         "domain": [
          0,
          0.45
         ]
        },
        "xaxis2": {
         "anchor": "y2",
         "domain": [
          0.55,
          1
         ]
        },
        "yaxis": {
         "anchor": "x",
         "domain": [
          0,
          1
         ]
        },
        "yaxis2": {
         "anchor": "x2",
         "domain": [
          0,
          1
         ]
        }
       }
      }
     },
     "metadata": {},
     "output_type": "display_data"
    }
   ],
   "source": [
    "fig = make_subplots(rows=1, cols=2, subplot_titles=[\"Female Stroke\", \"Male Stroke\"])\n",
    "\n",
    "fig.add_trace(go.Line(x=japan_f['Year'], y=japan_f['Stroke'], name='Female'), row=1, col=1)\n",
    "fig.add_trace(go.Line(x=japan_m['Year'], y=japan_m['Stroke'], name='Male'), row=1, col=2)\n",
    "\n",
    "#fig.update_layout(height=400, width=900, showlegend=False)\n",
    "fig.show()"
   ]
  }
 ],
 "metadata": {
  "kernelspec": {
   "display_name": "Python 3",
   "language": "python",
   "name": "python3"
  },
  "language_info": {
   "codemirror_mode": {
    "name": "ipython",
    "version": 3
   },
   "file_extension": ".py",
   "mimetype": "text/x-python",
   "name": "python",
   "nbconvert_exporter": "python",
   "pygments_lexer": "ipython3",
   "version": "3.12.10"
  }
 },
 "nbformat": 4,
 "nbformat_minor": 5
}
