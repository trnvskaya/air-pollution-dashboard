{
 "cells": [
  {
   "cell_type": "code",
   "execution_count": 1,
   "id": "576ad5d3",
   "metadata": {},
   "outputs": [],
   "source": [
    "import numpy as np\n",
    "import pandas as pd"
   ]
  },
  {
   "cell_type": "markdown",
   "id": "89d6009a",
   "metadata": {},
   "source": [
    "Downloading the data from a csv file "
   ]
  },
  {
   "cell_type": "code",
   "execution_count": 2,
   "id": "2a3afd78",
   "metadata": {},
   "outputs": [],
   "source": [
    "data = pd.read_csv('../data/data.csv')"
   ]
  },
  {
   "cell_type": "code",
   "execution_count": 3,
   "id": "46be9568",
   "metadata": {},
   "outputs": [
    {
     "data": {
      "text/html": [
       "<div>\n",
       "<style scoped>\n",
       "    .dataframe tbody tr th:only-of-type {\n",
       "        vertical-align: middle;\n",
       "    }\n",
       "\n",
       "    .dataframe tbody tr th {\n",
       "        vertical-align: top;\n",
       "    }\n",
       "\n",
       "    .dataframe thead th {\n",
       "        text-align: right;\n",
       "    }\n",
       "</style>\n",
       "<table border=\"1\" class=\"dataframe\">\n",
       "  <thead>\n",
       "    <tr style=\"text-align: right;\">\n",
       "      <th></th>\n",
       "      <th>IndicatorCode</th>\n",
       "      <th>Indicator</th>\n",
       "      <th>ValueType</th>\n",
       "      <th>ParentLocationCode</th>\n",
       "      <th>ParentLocation</th>\n",
       "      <th>Location type</th>\n",
       "      <th>SpatialDimValueCode</th>\n",
       "      <th>Location</th>\n",
       "      <th>Period type</th>\n",
       "      <th>Period</th>\n",
       "      <th>...</th>\n",
       "      <th>FactValueUoM</th>\n",
       "      <th>FactValueNumericLowPrefix</th>\n",
       "      <th>FactValueNumericLow</th>\n",
       "      <th>FactValueNumericHighPrefix</th>\n",
       "      <th>FactValueNumericHigh</th>\n",
       "      <th>Value</th>\n",
       "      <th>FactValueTranslationID</th>\n",
       "      <th>FactComments</th>\n",
       "      <th>Language</th>\n",
       "      <th>DateModified</th>\n",
       "    </tr>\n",
       "  </thead>\n",
       "  <tbody>\n",
       "    <tr>\n",
       "      <th>0</th>\n",
       "      <td>AIR_62</td>\n",
       "      <td>Household and ambient air pollution attributab...</td>\n",
       "      <td>numeric</td>\n",
       "      <td>AMR</td>\n",
       "      <td>Americas</td>\n",
       "      <td>Country</td>\n",
       "      <td>ATG</td>\n",
       "      <td>Antigua and Barbuda</td>\n",
       "      <td>Year</td>\n",
       "      <td>2019</td>\n",
       "      <td>...</td>\n",
       "      <td>NaN</td>\n",
       "      <td>NaN</td>\n",
       "      <td>0.0</td>\n",
       "      <td>NaN</td>\n",
       "      <td>0.0</td>\n",
       "      <td>0 [0-0]</td>\n",
       "      <td>NaN</td>\n",
       "      <td>NaN</td>\n",
       "      <td>EN</td>\n",
       "      <td>2024-10-02T22:00:00.000Z</td>\n",
       "    </tr>\n",
       "    <tr>\n",
       "      <th>1</th>\n",
       "      <td>AIR_62</td>\n",
       "      <td>Household and ambient air pollution attributab...</td>\n",
       "      <td>numeric</td>\n",
       "      <td>WPR</td>\n",
       "      <td>Western Pacific</td>\n",
       "      <td>Country</td>\n",
       "      <td>AUS</td>\n",
       "      <td>Australia</td>\n",
       "      <td>Year</td>\n",
       "      <td>2019</td>\n",
       "      <td>...</td>\n",
       "      <td>NaN</td>\n",
       "      <td>NaN</td>\n",
       "      <td>0.0</td>\n",
       "      <td>NaN</td>\n",
       "      <td>0.0</td>\n",
       "      <td>0 [0-0]</td>\n",
       "      <td>NaN</td>\n",
       "      <td>NaN</td>\n",
       "      <td>EN</td>\n",
       "      <td>2024-10-02T22:00:00.000Z</td>\n",
       "    </tr>\n",
       "    <tr>\n",
       "      <th>2</th>\n",
       "      <td>AIR_62</td>\n",
       "      <td>Household and ambient air pollution attributab...</td>\n",
       "      <td>numeric</td>\n",
       "      <td>EUR</td>\n",
       "      <td>Europe</td>\n",
       "      <td>Country</td>\n",
       "      <td>AUT</td>\n",
       "      <td>Austria</td>\n",
       "      <td>Year</td>\n",
       "      <td>2019</td>\n",
       "      <td>...</td>\n",
       "      <td>NaN</td>\n",
       "      <td>NaN</td>\n",
       "      <td>0.0</td>\n",
       "      <td>NaN</td>\n",
       "      <td>0.0</td>\n",
       "      <td>0 [0-0]</td>\n",
       "      <td>NaN</td>\n",
       "      <td>NaN</td>\n",
       "      <td>EN</td>\n",
       "      <td>2024-10-02T22:00:00.000Z</td>\n",
       "    </tr>\n",
       "    <tr>\n",
       "      <th>3</th>\n",
       "      <td>AIR_62</td>\n",
       "      <td>Household and ambient air pollution attributab...</td>\n",
       "      <td>numeric</td>\n",
       "      <td>AMR</td>\n",
       "      <td>Americas</td>\n",
       "      <td>Country</td>\n",
       "      <td>BHS</td>\n",
       "      <td>Bahamas</td>\n",
       "      <td>Year</td>\n",
       "      <td>2019</td>\n",
       "      <td>...</td>\n",
       "      <td>NaN</td>\n",
       "      <td>NaN</td>\n",
       "      <td>0.0</td>\n",
       "      <td>NaN</td>\n",
       "      <td>0.0</td>\n",
       "      <td>0 [0-0]</td>\n",
       "      <td>NaN</td>\n",
       "      <td>NaN</td>\n",
       "      <td>EN</td>\n",
       "      <td>2024-10-02T22:00:00.000Z</td>\n",
       "    </tr>\n",
       "    <tr>\n",
       "      <th>4</th>\n",
       "      <td>AIR_62</td>\n",
       "      <td>Household and ambient air pollution attributab...</td>\n",
       "      <td>numeric</td>\n",
       "      <td>EMR</td>\n",
       "      <td>Eastern Mediterranean</td>\n",
       "      <td>Country</td>\n",
       "      <td>BHR</td>\n",
       "      <td>Bahrain</td>\n",
       "      <td>Year</td>\n",
       "      <td>2019</td>\n",
       "      <td>...</td>\n",
       "      <td>NaN</td>\n",
       "      <td>NaN</td>\n",
       "      <td>0.0</td>\n",
       "      <td>NaN</td>\n",
       "      <td>0.0</td>\n",
       "      <td>0 [0-0]</td>\n",
       "      <td>NaN</td>\n",
       "      <td>NaN</td>\n",
       "      <td>EN</td>\n",
       "      <td>2024-10-02T22:00:00.000Z</td>\n",
       "    </tr>\n",
       "  </tbody>\n",
       "</table>\n",
       "<p>5 rows × 34 columns</p>\n",
       "</div>"
      ],
      "text/plain": [
       "  IndicatorCode                                          Indicator ValueType  \\\n",
       "0        AIR_62  Household and ambient air pollution attributab...   numeric   \n",
       "1        AIR_62  Household and ambient air pollution attributab...   numeric   \n",
       "2        AIR_62  Household and ambient air pollution attributab...   numeric   \n",
       "3        AIR_62  Household and ambient air pollution attributab...   numeric   \n",
       "4        AIR_62  Household and ambient air pollution attributab...   numeric   \n",
       "\n",
       "  ParentLocationCode         ParentLocation Location type SpatialDimValueCode  \\\n",
       "0                AMR               Americas       Country                 ATG   \n",
       "1                WPR        Western Pacific       Country                 AUS   \n",
       "2                EUR                 Europe       Country                 AUT   \n",
       "3                AMR               Americas       Country                 BHS   \n",
       "4                EMR  Eastern Mediterranean       Country                 BHR   \n",
       "\n",
       "              Location Period type  Period  ...  FactValueUoM  \\\n",
       "0  Antigua and Barbuda        Year    2019  ...           NaN   \n",
       "1            Australia        Year    2019  ...           NaN   \n",
       "2              Austria        Year    2019  ...           NaN   \n",
       "3              Bahamas        Year    2019  ...           NaN   \n",
       "4              Bahrain        Year    2019  ...           NaN   \n",
       "\n",
       "  FactValueNumericLowPrefix FactValueNumericLow FactValueNumericHighPrefix  \\\n",
       "0                       NaN                 0.0                        NaN   \n",
       "1                       NaN                 0.0                        NaN   \n",
       "2                       NaN                 0.0                        NaN   \n",
       "3                       NaN                 0.0                        NaN   \n",
       "4                       NaN                 0.0                        NaN   \n",
       "\n",
       "  FactValueNumericHigh    Value FactValueTranslationID  FactComments  \\\n",
       "0                  0.0  0 [0-0]                    NaN           NaN   \n",
       "1                  0.0  0 [0-0]                    NaN           NaN   \n",
       "2                  0.0  0 [0-0]                    NaN           NaN   \n",
       "3                  0.0  0 [0-0]                    NaN           NaN   \n",
       "4                  0.0  0 [0-0]                    NaN           NaN   \n",
       "\n",
       "   Language              DateModified  \n",
       "0        EN  2024-10-02T22:00:00.000Z  \n",
       "1        EN  2024-10-02T22:00:00.000Z  \n",
       "2        EN  2024-10-02T22:00:00.000Z  \n",
       "3        EN  2024-10-02T22:00:00.000Z  \n",
       "4        EN  2024-10-02T22:00:00.000Z  \n",
       "\n",
       "[5 rows x 34 columns]"
      ]
     },
     "execution_count": 3,
     "metadata": {},
     "output_type": "execute_result"
    }
   ],
   "source": [
    "data.head()"
   ]
  },
  {
   "cell_type": "code",
   "execution_count": 4,
   "id": "3a7f4f29",
   "metadata": {},
   "outputs": [
    {
     "name": "stdout",
     "output_type": "stream",
     "text": [
      "<class 'pandas.core.frame.DataFrame'>\n",
      "RangeIndex: 34200 entries, 0 to 34199\n",
      "Data columns (total 34 columns):\n",
      " #   Column                      Non-Null Count  Dtype  \n",
      "---  ------                      --------------  -----  \n",
      " 0   IndicatorCode               34200 non-null  object \n",
      " 1   Indicator                   34200 non-null  object \n",
      " 2   ValueType                   34200 non-null  object \n",
      " 3   ParentLocationCode          34200 non-null  object \n",
      " 4   ParentLocation              34200 non-null  object \n",
      " 5   Location type               34200 non-null  object \n",
      " 6   SpatialDimValueCode         34200 non-null  object \n",
      " 7   Location                    34200 non-null  object \n",
      " 8   Period type                 34200 non-null  object \n",
      " 9   Period                      34200 non-null  int64  \n",
      " 10  IsLatestYear                34200 non-null  bool   \n",
      " 11  Dim1 type                   34200 non-null  object \n",
      " 12  Dim1                        34200 non-null  object \n",
      " 13  Dim1ValueCode               34200 non-null  object \n",
      " 14  Dim2 type                   34200 non-null  object \n",
      " 15  Dim2                        34200 non-null  object \n",
      " 16  Dim2ValueCode               34200 non-null  object \n",
      " 17  Dim3 type                   0 non-null      float64\n",
      " 18  Dim3                        0 non-null      float64\n",
      " 19  Dim3ValueCode               0 non-null      float64\n",
      " 20  DataSourceDimValueCode      0 non-null      float64\n",
      " 21  DataSource                  0 non-null      float64\n",
      " 22  FactValueNumericPrefix      0 non-null      float64\n",
      " 23  FactValueNumeric            34200 non-null  float64\n",
      " 24  FactValueUoM                0 non-null      float64\n",
      " 25  FactValueNumericLowPrefix   0 non-null      float64\n",
      " 26  FactValueNumericLow         34200 non-null  float64\n",
      " 27  FactValueNumericHighPrefix  0 non-null      float64\n",
      " 28  FactValueNumericHigh        34200 non-null  float64\n",
      " 29  Value                       34200 non-null  object \n",
      " 30  FactValueTranslationID      0 non-null      float64\n",
      " 31  FactComments                0 non-null      float64\n",
      " 32  Language                    34200 non-null  object \n",
      " 33  DateModified                34200 non-null  object \n",
      "dtypes: bool(1), float64(14), int64(1), object(18)\n",
      "memory usage: 8.6+ MB\n"
     ]
    }
   ],
   "source": [
    "data.info()"
   ]
  },
  {
   "cell_type": "markdown",
   "id": "0d478d1f",
   "metadata": {},
   "source": [
    "We can see here that some columns have 0 non-null values. I would like to drop these columns as they carry no value in this case"
   ]
  },
  {
   "cell_type": "code",
   "execution_count": 5,
   "id": "53ee1851",
   "metadata": {},
   "outputs": [],
   "source": [
    "cols_to_drop = [col for col in data.columns if data[col].isnull().sum() == 34200]\n",
    "data.drop(columns=cols_to_drop, inplace=True)"
   ]
  },
  {
   "cell_type": "code",
   "execution_count": 6,
   "id": "c843f0f8",
   "metadata": {},
   "outputs": [
    {
     "data": {
      "text/plain": [
       "23"
      ]
     },
     "execution_count": 6,
     "metadata": {},
     "output_type": "execute_result"
    }
   ],
   "source": [
    "len(data.columns)"
   ]
  },
  {
   "cell_type": "markdown",
   "id": "61157ce3",
   "metadata": {},
   "source": [
    "We can see that column count went down by 11, so 11 columns had all null values"
   ]
  },
  {
   "cell_type": "markdown",
   "id": "772d30a1",
   "metadata": {},
   "source": [
    "Next I would like to find columns that have only one value across the whole dataset. If there are any, I would like to drop these columns to clean up the data"
   ]
  },
  {
   "cell_type": "code",
   "execution_count": 7,
   "id": "4c35dfd2",
   "metadata": {},
   "outputs": [
    {
     "name": "stdout",
     "output_type": "stream",
     "text": [
      "['IndicatorCode', 'Indicator', 'ValueType', 'Location type', 'Period type', 'Dim1 type', 'Dim2 type', 'Language', 'DateModified']\n"
     ]
    }
   ],
   "source": [
    "only_one = [col for col in data.columns if len(data[col].unique()) == 1]\n",
    "print(only_one)"
   ]
  },
  {
   "cell_type": "code",
   "execution_count": 8,
   "id": "74e4f58c",
   "metadata": {},
   "outputs": [],
   "source": [
    "data.drop(columns = only_one, inplace=True)"
   ]
  },
  {
   "cell_type": "code",
   "execution_count": 9,
   "id": "8a872b4d",
   "metadata": {},
   "outputs": [
    {
     "name": "stdout",
     "output_type": "stream",
     "text": [
      "Index(['ParentLocationCode', 'ParentLocation', 'SpatialDimValueCode',\n",
      "       'Location', 'Period', 'IsLatestYear', 'Dim1', 'Dim1ValueCode', 'Dim2',\n",
      "       'Dim2ValueCode', 'FactValueNumeric', 'FactValueNumericLow',\n",
      "       'FactValueNumericHigh', 'Value'],\n",
      "      dtype='object')\n"
     ]
    },
    {
     "data": {
      "text/plain": [
       "14"
      ]
     },
     "execution_count": 9,
     "metadata": {},
     "output_type": "execute_result"
    }
   ],
   "source": [
    "print(data.columns)\n",
    "len(data.columns)"
   ]
  },
  {
   "cell_type": "code",
   "execution_count": 10,
   "id": "c102bf3d",
   "metadata": {},
   "outputs": [
    {
     "name": "stdout",
     "output_type": "stream",
     "text": [
      "['SEX_FMLE' 'SEX_MLE' 'SEX_BTSX']\n",
      "['Female' 'Male' 'Both sexes']\n"
     ]
    }
   ],
   "source": [
    "print(data['Dim1ValueCode'].unique())\n",
    "print(data['Dim1'].unique())"
   ]
  },
  {
   "cell_type": "code",
   "execution_count": 11,
   "id": "138464a2",
   "metadata": {},
   "outputs": [
    {
     "name": "stdout",
     "output_type": "stream",
     "text": [
      "['GHECAUSE_GHE001040' 'GHECAUSE_GHE000680' 'GHECAUSE_GHE001180'\n",
      " 'GHECAUSE_GHE000390' 'GHECAUSE_GHE000000' 'GHECAUSE_GHE001130'\n",
      " 'GHECAUSE_GHE001140']\n",
      "['Cataracts' 'Trachea, bronchus, lung cancers'\n",
      " 'Chronic obstructive pulmonary disease'\n",
      " 'Acute lower respiratory infections' 'All causes'\n",
      " 'Ischaemic heart disease' 'Stroke']\n"
     ]
    }
   ],
   "source": [
    "print(data['Dim2ValueCode'].unique())\n",
    "print(data['Dim2'].unique())"
   ]
  },
  {
   "cell_type": "code",
   "execution_count": null,
   "id": "b9e5f6d1",
   "metadata": {},
   "outputs": [],
   "source": []
  },
  {
   "cell_type": "markdown",
   "id": "0ce13cc9",
   "metadata": {},
   "source": [
    "We can see that data table has 2 columns for marking *Dim1*, *Dim2*, *ParentLocation* and *Location* - codes and actual names.\n",
    "\n",
    "For the sake of easier visualization and data understansing I would like to drop code named columns and only leave actual names. "
   ]
  },
  {
   "cell_type": "code",
   "execution_count": 12,
   "id": "a3fe518b",
   "metadata": {},
   "outputs": [],
   "source": [
    "data.drop(columns=['Dim1ValueCode', 'Dim2ValueCode', 'ParentLocationCode', 'SpatialDimValueCode'], inplace=True)"
   ]
  },
  {
   "cell_type": "markdown",
   "id": "04461546",
   "metadata": {},
   "source": [
    "I would like to rename **Dim1** to **Sex** and **Dim2** to **Desease**.\n",
    "\n",
    "As I have deleted *Period type* column during previous data cleaning steps, I would also like to rename **Period** column to just **Year** (as *period type* value was a column with only 1 value throughout the whole dataset - *year*) "
   ]
  },
  {
   "cell_type": "code",
   "execution_count": 13,
   "id": "2354216c",
   "metadata": {},
   "outputs": [],
   "source": [
    "data = data.rename(columns={'Dim1': 'Sex', 'Dim2': 'Disease', 'Period' : 'Year'})"
   ]
  },
  {
   "cell_type": "code",
   "execution_count": 14,
   "id": "7365da0b",
   "metadata": {},
   "outputs": [
    {
     "data": {
      "text/html": [
       "<div>\n",
       "<style scoped>\n",
       "    .dataframe tbody tr th:only-of-type {\n",
       "        vertical-align: middle;\n",
       "    }\n",
       "\n",
       "    .dataframe tbody tr th {\n",
       "        vertical-align: top;\n",
       "    }\n",
       "\n",
       "    .dataframe thead th {\n",
       "        text-align: right;\n",
       "    }\n",
       "</style>\n",
       "<table border=\"1\" class=\"dataframe\">\n",
       "  <thead>\n",
       "    <tr style=\"text-align: right;\">\n",
       "      <th></th>\n",
       "      <th>ParentLocation</th>\n",
       "      <th>Location</th>\n",
       "      <th>Year</th>\n",
       "      <th>IsLatestYear</th>\n",
       "      <th>Sex</th>\n",
       "      <th>Disease</th>\n",
       "      <th>FactValueNumeric</th>\n",
       "      <th>FactValueNumericLow</th>\n",
       "      <th>FactValueNumericHigh</th>\n",
       "      <th>Value</th>\n",
       "    </tr>\n",
       "  </thead>\n",
       "  <tbody>\n",
       "    <tr>\n",
       "      <th>0</th>\n",
       "      <td>Americas</td>\n",
       "      <td>Antigua and Barbuda</td>\n",
       "      <td>2019</td>\n",
       "      <td>True</td>\n",
       "      <td>Female</td>\n",
       "      <td>Cataracts</td>\n",
       "      <td>0.0</td>\n",
       "      <td>0.0</td>\n",
       "      <td>0.0</td>\n",
       "      <td>0 [0-0]</td>\n",
       "    </tr>\n",
       "    <tr>\n",
       "      <th>1</th>\n",
       "      <td>Western Pacific</td>\n",
       "      <td>Australia</td>\n",
       "      <td>2019</td>\n",
       "      <td>True</td>\n",
       "      <td>Female</td>\n",
       "      <td>Cataracts</td>\n",
       "      <td>0.0</td>\n",
       "      <td>0.0</td>\n",
       "      <td>0.0</td>\n",
       "      <td>0 [0-0]</td>\n",
       "    </tr>\n",
       "    <tr>\n",
       "      <th>2</th>\n",
       "      <td>Europe</td>\n",
       "      <td>Austria</td>\n",
       "      <td>2019</td>\n",
       "      <td>True</td>\n",
       "      <td>Female</td>\n",
       "      <td>Cataracts</td>\n",
       "      <td>0.0</td>\n",
       "      <td>0.0</td>\n",
       "      <td>0.0</td>\n",
       "      <td>0 [0-0]</td>\n",
       "    </tr>\n",
       "    <tr>\n",
       "      <th>3</th>\n",
       "      <td>Americas</td>\n",
       "      <td>Bahamas</td>\n",
       "      <td>2019</td>\n",
       "      <td>True</td>\n",
       "      <td>Female</td>\n",
       "      <td>Cataracts</td>\n",
       "      <td>0.0</td>\n",
       "      <td>0.0</td>\n",
       "      <td>0.0</td>\n",
       "      <td>0 [0-0]</td>\n",
       "    </tr>\n",
       "    <tr>\n",
       "      <th>4</th>\n",
       "      <td>Eastern Mediterranean</td>\n",
       "      <td>Bahrain</td>\n",
       "      <td>2019</td>\n",
       "      <td>True</td>\n",
       "      <td>Female</td>\n",
       "      <td>Cataracts</td>\n",
       "      <td>0.0</td>\n",
       "      <td>0.0</td>\n",
       "      <td>0.0</td>\n",
       "      <td>0 [0-0]</td>\n",
       "    </tr>\n",
       "  </tbody>\n",
       "</table>\n",
       "</div>"
      ],
      "text/plain": [
       "          ParentLocation             Location  Year  IsLatestYear     Sex  \\\n",
       "0               Americas  Antigua and Barbuda  2019          True  Female   \n",
       "1        Western Pacific            Australia  2019          True  Female   \n",
       "2                 Europe              Austria  2019          True  Female   \n",
       "3               Americas              Bahamas  2019          True  Female   \n",
       "4  Eastern Mediterranean              Bahrain  2019          True  Female   \n",
       "\n",
       "     Disease  FactValueNumeric  FactValueNumericLow  FactValueNumericHigh  \\\n",
       "0  Cataracts               0.0                  0.0                   0.0   \n",
       "1  Cataracts               0.0                  0.0                   0.0   \n",
       "2  Cataracts               0.0                  0.0                   0.0   \n",
       "3  Cataracts               0.0                  0.0                   0.0   \n",
       "4  Cataracts               0.0                  0.0                   0.0   \n",
       "\n",
       "     Value  \n",
       "0  0 [0-0]  \n",
       "1  0 [0-0]  \n",
       "2  0 [0-0]  \n",
       "3  0 [0-0]  \n",
       "4  0 [0-0]  "
      ]
     },
     "execution_count": 14,
     "metadata": {},
     "output_type": "execute_result"
    }
   ],
   "source": [
    "data.head()"
   ]
  },
  {
   "cell_type": "markdown",
   "id": "915ba5ce",
   "metadata": {},
   "source": [
    "As per my opinion, the data is cleansed now, so I will save it to another csv file for further visualization"
   ]
  },
  {
   "cell_type": "code",
   "execution_count": 15,
   "id": "7e604f67",
   "metadata": {},
   "outputs": [],
   "source": [
    "data.to_csv('../data/cleaned_data.csv', index=False)"
   ]
  }
 ],
 "metadata": {
  "kernelspec": {
   "display_name": "Python 3",
   "language": "python",
   "name": "python3"
  },
  "language_info": {
   "codemirror_mode": {
    "name": "ipython",
    "version": 3
   },
   "file_extension": ".py",
   "mimetype": "text/x-python",
   "name": "python",
   "nbconvert_exporter": "python",
   "pygments_lexer": "ipython3",
   "version": "3.13.2"
  }
 },
 "nbformat": 4,
 "nbformat_minor": 5
}
